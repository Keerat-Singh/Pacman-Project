{
 "cells": [
  {
   "cell_type": "code",
   "execution_count": 1,
   "metadata": {},
   "outputs": [
    {
     "name": "stdout",
     "output_type": "stream",
     "text": [
      "pygame 2.6.0 (SDL 2.28.4, Python 3.11.6)\n",
      "Hello from the pygame community. https://www.pygame.org/contribute.html\n"
     ]
    }
   ],
   "source": [
    "import sys\n",
    "import os\n",
    "import torch\n",
    "import torch.nn as nn\n",
    "import torch.optim as optim\n",
    "import torch.nn.functional as F\n",
    "from torchviz import make_dot\n",
    "import numpy as np\n",
    "from collections import deque\n",
    "import random\n",
    "import pygame as PG"
   ]
  },
  {
   "cell_type": "markdown",
   "metadata": {},
   "source": [
    "# Visualization"
   ]
  },
  {
   "cell_type": "code",
   "execution_count": 73,
   "metadata": {},
   "outputs": [],
   "source": [
    "# Loading the model\n",
    "def load_model():\n",
    "    # Directory where your model files are stored\n",
    "    model_directory = \"../../Model/New/\"\n",
    "\n",
    "    # Get a list of all files in the directory\n",
    "    all_files = os.listdir(model_directory)\n",
    "\n",
    "    # Filter out only the model files (assuming they all have the .pth extension)\n",
    "    model_files = [f for f in all_files if f.endswith('.pth')]\n",
    "\n",
    "    # Initialize an empty list to store models\n",
    "    models = []\n",
    "\n",
    "    # Load each model and append to the list\n",
    "    for model_file in sorted(model_files):\n",
    "        model_path = os.path.join(model_directory, model_file)\n",
    "        model = torch.load(model_path, map_location='cuda', weights_only=True)  # Load the model\n",
    "        models.append(model)  # Append the loaded model to the list\n",
    "\n",
    "    return models\n",
    "\n",
    "\n",
    "def load_single_model():\n",
    "    filename = \"Model_at_episode_0.pth\"\n",
    "    model_path = os.path.join('../../Model/New/', filename)  # Adjusted path\n",
    "    checkpoint = torch.load(model_path, map_location='cuda', weights_only=True)\n",
    "    return checkpoint"
   ]
  },
  {
   "cell_type": "code",
   "execution_count": 74,
   "metadata": {},
   "outputs": [],
   "source": [
    "models = load_model()\n",
    "model = load_single_model()"
   ]
  },
  {
   "cell_type": "code",
   "execution_count": 69,
   "metadata": {},
   "outputs": [],
   "source": [
    "models_df = pd.DataFrame(models)\n",
    "# model_df = pd.DataFrame(model)"
   ]
  },
  {
   "cell_type": "code",
   "execution_count": 70,
   "metadata": {},
   "outputs": [
    {
     "data": {
      "text/plain": [
       "Index(['episode_count', 'policy_net_state_dict', 'target_net_state_dict',\n",
       "       'epsilon', 'epsilon_decay', 'epsilon_min', 'total_reward',\n",
       "       'episode_reward'],\n",
       "      dtype='object')"
      ]
     },
     "execution_count": 70,
     "metadata": {},
     "output_type": "execute_result"
    }
   ],
   "source": [
    "models_df.keys()"
   ]
  },
  {
   "cell_type": "code",
   "execution_count": null,
   "metadata": {},
   "outputs": [],
   "source": []
  }
 ],
 "metadata": {
  "kernelspec": {
   "display_name": ".venv",
   "language": "python",
   "name": "python3"
  },
  "language_info": {
   "codemirror_mode": {
    "name": "ipython",
    "version": 3
   },
   "file_extension": ".py",
   "mimetype": "text/x-python",
   "name": "python",
   "nbconvert_exporter": "python",
   "pygments_lexer": "ipython3",
   "version": "3.11.6"
  }
 },
 "nbformat": 4,
 "nbformat_minor": 2
}
