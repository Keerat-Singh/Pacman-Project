{
 "cells": [
  {
   "cell_type": "code",
   "execution_count": 6,
   "metadata": {},
   "outputs": [],
   "source": [
    "import sys\n",
    "import os\n",
    "import torch\n",
    "import torch.nn as nn\n",
    "import torch.optim as optim\n",
    "import torch.nn.functional as F\n",
    "from torchviz import make_dot\n",
    "import numpy as np\n",
    "from collections import deque\n",
    "import random\n",
    "import pygame as PG\n",
    "import pandas as pd"
   ]
  },
  {
   "cell_type": "markdown",
   "metadata": {},
   "source": [
    "# Visualization"
   ]
  },
  {
   "cell_type": "code",
   "execution_count": 3,
   "metadata": {},
   "outputs": [],
   "source": [
    "# Loading the model\n",
    "def load_model():\n",
    "    # Directory where your model files are stored\n",
    "    model_directory = \"../../Model/DQN/\"\n",
    "\n",
    "    # Get a list of all files in the directory\n",
    "    all_files = os.listdir(model_directory)\n",
    "\n",
    "    # Filter out only the model files (assuming they all have the .pth extension)\n",
    "    model_files = [f for f in all_files if f.endswith('.pth')]\n",
    "\n",
    "    # Initialize an empty list to store models\n",
    "    models = []\n",
    "\n",
    "    # Load each model and append to the list\n",
    "    for model_file in sorted(model_files):\n",
    "        model_path = os.path.join(model_directory, model_file)\n",
    "        model = torch.load(model_path, map_location='cuda', weights_only=True)  # Load the model\n",
    "        models.append(model)  # Append the loaded model to the list\n",
    "\n",
    "    return models\n",
    "\n",
    "\n",
    "def load_single_model():\n",
    "    filename = \"Model_at_episode_0.pth\"\n",
    "    model_path = os.path.join('../../Model/DQN/', filename)  # Adjusted path\n",
    "    checkpoint = torch.load(model_path, map_location='cuda', weights_only=True)\n",
    "    return checkpoint"
   ]
  },
  {
   "cell_type": "code",
   "execution_count": 4,
   "metadata": {},
   "outputs": [],
   "source": [
    "models = load_model()\n",
    "model = load_single_model()"
   ]
  },
  {
   "cell_type": "code",
   "execution_count": 7,
   "metadata": {},
   "outputs": [],
   "source": [
    "models_df = pd.DataFrame(models)\n",
    "# model_df = pd.DataFrame(model)"
   ]
  },
  {
   "cell_type": "code",
   "execution_count": 8,
   "metadata": {},
   "outputs": [
    {
     "data": {
      "text/plain": [
       "Index(['episode_count', 'policy_net_state_dict', 'target_net_state_dict',\n",
       "       'epsilon', 'epsilon_decay', 'epsilon_min', 'total_reward',\n",
       "       'episode_reward'],\n",
       "      dtype='object')"
      ]
     },
     "execution_count": 8,
     "metadata": {},
     "output_type": "execute_result"
    }
   ],
   "source": [
    "models_df.keys()"
   ]
  },
  {
   "cell_type": "code",
   "execution_count": 21,
   "metadata": {},
   "outputs": [
    {
     "data": {
      "text/plain": [
       "0                                                [-7.0]\n",
       "1     [-7.0, 0.09999999999999609, 4.899999999999981,...\n",
       "2     [-7.0, 0.09999999999999609, 4.899999999999981,...\n",
       "3     [-7.0, 0.09999999999999609, 4.899999999999981,...\n",
       "4     [-7.0, 0.09999999999999609, 4.899999999999981,...\n",
       "5     [-7.0, 0.09999999999999609, 4.899999999999981,...\n",
       "6                           [-7.0, 0.09999999999999609]\n",
       "7     [-7.0, 0.09999999999999609, 4.899999999999981,...\n",
       "8     [-7.0, 0.09999999999999609, 4.899999999999981,...\n",
       "9     [-7.0, 0.09999999999999609, 4.899999999999981,...\n",
       "10    [-7.0, 0.09999999999999609, 4.899999999999981,...\n",
       "11    [-7.0, 0.09999999999999609, 4.899999999999981,...\n",
       "12    [-7.0, 0.09999999999999609, 4.899999999999981,...\n",
       "13    [-7.0, 0.09999999999999609, 4.899999999999981,...\n",
       "14    [-7.0, 0.09999999999999609, 4.899999999999981,...\n",
       "15    [-7.0, 0.09999999999999609, 4.899999999999981,...\n",
       "16    [-7.0, 0.09999999999999609, 4.899999999999981,...\n",
       "17       [-7.0, 0.09999999999999609, 4.899999999999981]\n",
       "18    [-7.0, 0.09999999999999609, 4.899999999999981,...\n",
       "19    [-7.0, 0.09999999999999609, 4.899999999999981,...\n",
       "20    [-7.0, 0.09999999999999609, 4.899999999999981,...\n",
       "21    [-7.0, 0.09999999999999609, 4.899999999999981,...\n",
       "Name: total_reward, dtype: object"
      ]
     },
     "execution_count": 21,
     "metadata": {},
     "output_type": "execute_result"
    }
   ],
   "source": [
    "models_df['total_reward']"
   ]
  },
  {
   "cell_type": "code",
   "execution_count": 18,
   "metadata": {},
   "outputs": [
    {
     "name": "stdout",
     "output_type": "stream",
     "text": [
      "1\n",
      "7\n",
      "8\n",
      "9\n",
      "10\n",
      "11\n",
      "2\n",
      "12\n",
      "13\n",
      "14\n",
      "15\n",
      "16\n",
      "17\n",
      "18\n",
      "19\n",
      "20\n",
      "21\n",
      "3\n",
      "22\n",
      "23\n",
      "5\n",
      "6\n"
     ]
    }
   ],
   "source": []
  },
  {
   "cell_type": "code",
   "execution_count": null,
   "metadata": {},
   "outputs": [],
   "source": []
  }
 ],
 "metadata": {
  "kernelspec": {
   "display_name": ".venv",
   "language": "python",
   "name": "python3"
  },
  "language_info": {
   "codemirror_mode": {
    "name": "ipython",
    "version": 3
   },
   "file_extension": ".py",
   "mimetype": "text/x-python",
   "name": "python",
   "nbconvert_exporter": "python",
   "pygments_lexer": "ipython3",
   "version": "3.11.6"
  }
 },
 "nbformat": 4,
 "nbformat_minor": 2
}
